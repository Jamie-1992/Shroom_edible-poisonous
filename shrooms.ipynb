{
 "cells": [
  {
   "cell_type": "markdown",
   "metadata": {},
   "source": [
    "# Shrooms detection dataset (edible and poisonous)"
   ]
  },
  {
   "cell_type": "code",
   "execution_count": 1,
   "metadata": {},
   "outputs": [
    {
     "data": {
      "text/plain": [
       "class                       0\n",
       "cap-shape                   0\n",
       "cap-surface                 0\n",
       "cap-color                   0\n",
       "bruises                     0\n",
       "odor                        0\n",
       "gill-attachment             0\n",
       "gill-spacing                0\n",
       "gill-size                   0\n",
       "gill-color                  0\n",
       "stalk-shape                 0\n",
       "stalk-root                  0\n",
       "stalk-surface-above-ring    0\n",
       "stalk-surface-below-ring    0\n",
       "stalk-color-above-ring      0\n",
       "stalk-color-below-ring      0\n",
       "veil-type                   0\n",
       "veil-color                  0\n",
       "ring-number                 0\n",
       "ring-type                   0\n",
       "spore-print-color           0\n",
       "population                  0\n",
       "habitat                     0\n",
       "dtype: int64"
      ]
     },
     "execution_count": 1,
     "metadata": {},
     "output_type": "execute_result"
    }
   ],
   "source": [
    "import pandas as pd \n",
    "\n",
    "df = pd.read_csv(\"mushrooms.csv\")\n",
    "df.head(n=1)\n",
    "df.isnull().sum() #no missing values"
   ]
  },
  {
   "cell_type": "code",
   "execution_count": 2,
   "metadata": {},
   "outputs": [
    {
     "data": {
      "text/plain": [
       "e    4208\n",
       "p    3916\n",
       "Name: class, dtype: int64"
      ]
     },
     "execution_count": 2,
     "metadata": {},
     "output_type": "execute_result"
    }
   ],
   "source": [
    "df['class'].value_counts() #the target is balanced. similar amount of edible and poisonous classes. accuracy will be an adequate measure"
   ]
  },
  {
   "cell_type": "markdown",
   "metadata": {},
   "source": [
    "## Label encoding the target "
   ]
  },
  {
   "cell_type": "code",
   "execution_count": 3,
   "metadata": {
    "scrolled": true
   },
   "outputs": [
    {
     "name": "stdout",
     "output_type": "stream",
     "text": [
      "Original letter encoding 0    p\n",
      "1    e\n",
      "2    e\n",
      "3    p\n",
      "4    e\n",
      "5    e\n",
      "6    e\n",
      "7    e\n",
      "8    p\n",
      "9    e\n",
      "Name: class, dtype: object\n",
      "poisonous and edible transformed to 0 = edible and 1 = poisonous [1 0 0 1 0 0 0 0 1 0]\n"
     ]
    }
   ],
   "source": [
    "from sklearn.preprocessing import LabelEncoder\n",
    "\n",
    "target = df['class']\n",
    "lab = LabelEncoder()\n",
    "\n",
    "lab.fit(target)\n",
    "y_trans = lab.transform(target)\n",
    "print(\"Original letter encoding\",  target[:10])\n",
    "print(\"poisonous and edible transformed to 0 = edible and 1 = poisonous\", y_trans[:10])\n",
    "\n",
    "df['y_trans'] = y_trans #adding transformed variable to data frame\n",
    "\n",
    "\n"
   ]
  },
  {
   "cell_type": "markdown",
   "metadata": {},
   "source": [
    "## Visualising some of the features "
   ]
  },
  {
   "cell_type": "code",
   "execution_count": 4,
   "metadata": {
    "scrolled": true
   },
   "outputs": [
    {
     "data": {
      "text/plain": [
       "<matplotlib.axes._subplots.AxesSubplot at 0x1c8655f5bb0>"
      ]
     },
     "execution_count": 4,
     "metadata": {},
     "output_type": "execute_result"
    },
    {
     "data": {
      "image/png": "[encoded data removed]",
      "text/plain": [
       "<Figure size 432x288 with 1 Axes>"
      ]
     },
     "metadata": {
      "needs_background": "light"
     },
     "output_type": "display_data"
    }
   ],
   "source": [
    "#bruising\n",
    "\n",
    "import matplotlib.pyplot as plt\n",
    "\n",
    "bruises = df.groupby(\"bruises\").y_trans.value_counts(normalize = True)\n",
    "bruises = bruises.unstack()\n",
    "bruises.plot(kind = 'bar')"
   ]
  },
  {
   "cell_type": "code",
   "execution_count": 5,
   "metadata": {},
   "outputs": [
    {
     "data": {
      "text/plain": [
       "<matplotlib.axes._subplots.AxesSubplot at 0x1c865d6da90>"
      ]
     },
     "execution_count": 5,
     "metadata": {},
     "output_type": "execute_result"
    },
    {
     "data": {
      "image/png": "[encoded data removed]",
      "text/plain": [
       "<Figure size 432x288 with 1 Axes>"
      ]
     },
     "metadata": {
      "needs_background": "light"
     },
     "output_type": "display_data"
    }
   ],
   "source": [
    "#odor\n",
    "\n",
    "odor = df.groupby(\"odor\").y_trans.value_counts(normalize = True)\n",
    "odor = odor.unstack()\n",
    "odor.plot(kind = 'bar')\n",
    "\n",
    "#all odors are considered poisonous except a which is almond, n which is no odor and l which is anise"
   ]
  },
  {
   "cell_type": "code",
   "execution_count": 6,
   "metadata": {},
   "outputs": [
    {
     "data": {
      "text/plain": [
       "<matplotlib.axes._subplots.AxesSubplot at 0x1c865def5b0>"
      ]
     },
     "execution_count": 6,
     "metadata": {},
     "output_type": "execute_result"
    },
    {
     "data": {
      "image/png": "[encoded data removed]",
      "text/plain": [
       "<Figure size 432x288 with 1 Axes>"
      ]
     },
     "metadata": {
      "needs_background": "light"
     },
     "output_type": "display_data"
    }
   ],
   "source": [
    "#cap shape \n",
    "\n",
    "cap_shape = df.groupby(\"cap-shape\").y_trans.value_counts(normalize = True)\n",
    "cap_shape = cap_shape.unstack()\n",
    "cap_shape.plot(kind = 'bar')"
   ]
  },
  {
   "cell_type": "code",
   "execution_count": 7,
   "metadata": {},
   "outputs": [
    {
     "data": {
      "text/plain": [
       "<matplotlib.axes._subplots.AxesSubplot at 0x1c865e909a0>"
      ]
     },
     "execution_count": 7,
     "metadata": {},
     "output_type": "execute_result"
    },
    {
     "data": {
      "image/png": "[encoded data removed]",
      "text/plain": [
       "<Figure size 432x288 with 1 Axes>"
      ]
     },
     "metadata": {
      "needs_background": "light"
     },
     "output_type": "display_data"
    }
   ],
   "source": [
    "# Cap surface\n",
    "\n",
    "cap_surface = df.groupby(\"cap-surface\").y_trans.value_counts(normalize = True)\n",
    "cap_surface = cap_surface.unstack()\n",
    "cap_surface.plot(kind = 'bar')\n",
    "\n",
    "#G: grooves was all poisonous"
   ]
  },
  {
   "cell_type": "code",
   "execution_count": 8,
   "metadata": {},
   "outputs": [
    {
     "data": {
      "text/plain": [
       "<matplotlib.axes._subplots.AxesSubplot at 0x1c865eef550>"
      ]
     },
     "execution_count": 8,
     "metadata": {},
     "output_type": "execute_result"
    },
    {
     "data": {
      "image/png": "[encoded data removed]",
      "text/plain": [
       "<Figure size 432x288 with 1 Axes>"
      ]
     },
     "metadata": {
      "needs_background": "light"
     },
     "output_type": "display_data"
    }
   ],
   "source": [
    "# Population \n",
    "\n",
    "pop = df.groupby(\"population\").y_trans.value_counts(normalize = True)\n",
    "pop = pop.unstack()\n",
    "pop.plot(kind = 'bar')\n",
    "\n",
    "#When there is several shrooms, they tend to be most likely poisonous \"v\""
   ]
  },
  {
   "cell_type": "code",
   "execution_count": 9,
   "metadata": {},
   "outputs": [
    {
     "data": {
      "text/plain": [
       "<matplotlib.axes._subplots.AxesSubplot at 0x1c865f7c7f0>"
      ]
     },
     "execution_count": 9,
     "metadata": {},
     "output_type": "execute_result"
    },
    {
     "data": {
      "image/png": "[encoded data removed]",
      "text/plain": [
       "<Figure size 432x288 with 1 Axes>"
      ]
     },
     "metadata": {
      "needs_background": "light"
     },
     "output_type": "display_data"
    }
   ],
   "source": [
    "#Habitat \n",
    "\n",
    "hab = df.groupby(\"habitat\").y_trans.value_counts(normalize = True)\n",
    "hab = hab.unstack()\n",
    "hab.plot(kind = 'bar')\n",
    "\n",
    "#when habitat is leaves, paths and urban, they tend to be poisonous\n"
   ]
  },
  {
   "cell_type": "markdown",
   "metadata": {},
   "source": [
    "# starting off with 6 features from the dataset "
   ]
  },
  {
   "cell_type": "code",
   "execution_count": 10,
   "metadata": {},
   "outputs": [
    {
     "data": {
      "text/html": [
       "<div>\n",
       "<style scoped>\n",
       "    .dataframe tbody tr th:only-of-type {\n",
       "        vertical-align: middle;\n",
       "    }\n",
       "\n",
       "    .dataframe tbody tr th {\n",
       "        vertical-align: top;\n",
       "    }\n",
       "\n",
       "    .dataframe thead th {\n",
       "        text-align: right;\n",
       "    }\n",
       "</style>\n",
       "<table border=\"1\" class=\"dataframe\">\n",
       "  <thead>\n",
       "    <tr style=\"text-align: right;\">\n",
       "      <th></th>\n",
       "      <th>bruises_t</th>\n",
       "      <th>odor_c</th>\n",
       "      <th>odor_f</th>\n",
       "      <th>odor_l</th>\n",
       "      <th>odor_m</th>\n",
       "      <th>odor_n</th>\n",
       "      <th>odor_p</th>\n",
       "      <th>odor_s</th>\n",
       "      <th>odor_y</th>\n",
       "      <th>cap-shape_c</th>\n",
       "      <th>...</th>\n",
       "      <th>population_n</th>\n",
       "      <th>population_s</th>\n",
       "      <th>population_v</th>\n",
       "      <th>population_y</th>\n",
       "      <th>habitat_g</th>\n",
       "      <th>habitat_l</th>\n",
       "      <th>habitat_m</th>\n",
       "      <th>habitat_p</th>\n",
       "      <th>habitat_u</th>\n",
       "      <th>habitat_w</th>\n",
       "    </tr>\n",
       "  </thead>\n",
       "  <tbody>\n",
       "    <tr>\n",
       "      <th>0</th>\n",
       "      <td>1</td>\n",
       "      <td>0</td>\n",
       "      <td>0</td>\n",
       "      <td>0</td>\n",
       "      <td>0</td>\n",
       "      <td>0</td>\n",
       "      <td>1</td>\n",
       "      <td>0</td>\n",
       "      <td>0</td>\n",
       "      <td>0</td>\n",
       "      <td>...</td>\n",
       "      <td>0</td>\n",
       "      <td>1</td>\n",
       "      <td>0</td>\n",
       "      <td>0</td>\n",
       "      <td>0</td>\n",
       "      <td>0</td>\n",
       "      <td>0</td>\n",
       "      <td>0</td>\n",
       "      <td>1</td>\n",
       "      <td>0</td>\n",
       "    </tr>\n",
       "    <tr>\n",
       "      <th>1</th>\n",
       "      <td>1</td>\n",
       "      <td>0</td>\n",
       "      <td>0</td>\n",
       "      <td>0</td>\n",
       "      <td>0</td>\n",
       "      <td>0</td>\n",
       "      <td>0</td>\n",
       "      <td>0</td>\n",
       "      <td>0</td>\n",
       "      <td>0</td>\n",
       "      <td>...</td>\n",
       "      <td>1</td>\n",
       "      <td>0</td>\n",
       "      <td>0</td>\n",
       "      <td>0</td>\n",
       "      <td>1</td>\n",
       "      <td>0</td>\n",
       "      <td>0</td>\n",
       "      <td>0</td>\n",
       "      <td>0</td>\n",
       "      <td>0</td>\n",
       "    </tr>\n",
       "    <tr>\n",
       "      <th>2</th>\n",
       "      <td>1</td>\n",
       "      <td>0</td>\n",
       "      <td>0</td>\n",
       "      <td>1</td>\n",
       "      <td>0</td>\n",
       "      <td>0</td>\n",
       "      <td>0</td>\n",
       "      <td>0</td>\n",
       "      <td>0</td>\n",
       "      <td>0</td>\n",
       "      <td>...</td>\n",
       "      <td>1</td>\n",
       "      <td>0</td>\n",
       "      <td>0</td>\n",
       "      <td>0</td>\n",
       "      <td>0</td>\n",
       "      <td>0</td>\n",
       "      <td>1</td>\n",
       "      <td>0</td>\n",
       "      <td>0</td>\n",
       "      <td>0</td>\n",
       "    </tr>\n",
       "    <tr>\n",
       "      <th>3</th>\n",
       "      <td>1</td>\n",
       "      <td>0</td>\n",
       "      <td>0</td>\n",
       "      <td>0</td>\n",
       "      <td>0</td>\n",
       "      <td>0</td>\n",
       "      <td>1</td>\n",
       "      <td>0</td>\n",
       "      <td>0</td>\n",
       "      <td>0</td>\n",
       "      <td>...</td>\n",
       "      <td>0</td>\n",
       "      <td>1</td>\n",
       "      <td>0</td>\n",
       "      <td>0</td>\n",
       "      <td>0</td>\n",
       "      <td>0</td>\n",
       "      <td>0</td>\n",
       "      <td>0</td>\n",
       "      <td>1</td>\n",
       "      <td>0</td>\n",
       "    </tr>\n",
       "    <tr>\n",
       "      <th>4</th>\n",
       "      <td>0</td>\n",
       "      <td>0</td>\n",
       "      <td>0</td>\n",
       "      <td>0</td>\n",
       "      <td>0</td>\n",
       "      <td>1</td>\n",
       "      <td>0</td>\n",
       "      <td>0</td>\n",
       "      <td>0</td>\n",
       "      <td>0</td>\n",
       "      <td>...</td>\n",
       "      <td>0</td>\n",
       "      <td>0</td>\n",
       "      <td>0</td>\n",
       "      <td>0</td>\n",
       "      <td>1</td>\n",
       "      <td>0</td>\n",
       "      <td>0</td>\n",
       "      <td>0</td>\n",
       "      <td>0</td>\n",
       "      <td>0</td>\n",
       "    </tr>\n",
       "    <tr>\n",
       "      <th>...</th>\n",
       "      <td>...</td>\n",
       "      <td>...</td>\n",
       "      <td>...</td>\n",
       "      <td>...</td>\n",
       "      <td>...</td>\n",
       "      <td>...</td>\n",
       "      <td>...</td>\n",
       "      <td>...</td>\n",
       "      <td>...</td>\n",
       "      <td>...</td>\n",
       "      <td>...</td>\n",
       "      <td>...</td>\n",
       "      <td>...</td>\n",
       "      <td>...</td>\n",
       "      <td>...</td>\n",
       "      <td>...</td>\n",
       "      <td>...</td>\n",
       "      <td>...</td>\n",
       "      <td>...</td>\n",
       "      <td>...</td>\n",
       "      <td>...</td>\n",
       "    </tr>\n",
       "    <tr>\n",
       "      <th>8119</th>\n",
       "      <td>0</td>\n",
       "      <td>0</td>\n",
       "      <td>0</td>\n",
       "      <td>0</td>\n",
       "      <td>0</td>\n",
       "      <td>1</td>\n",
       "      <td>0</td>\n",
       "      <td>0</td>\n",
       "      <td>0</td>\n",
       "      <td>0</td>\n",
       "      <td>...</td>\n",
       "      <td>0</td>\n",
       "      <td>0</td>\n",
       "      <td>0</td>\n",
       "      <td>0</td>\n",
       "      <td>0</td>\n",
       "      <td>1</td>\n",
       "      <td>0</td>\n",
       "      <td>0</td>\n",
       "      <td>0</td>\n",
       "      <td>0</td>\n",
       "    </tr>\n",
       "    <tr>\n",
       "      <th>8120</th>\n",
       "      <td>0</td>\n",
       "      <td>0</td>\n",
       "      <td>0</td>\n",
       "      <td>0</td>\n",
       "      <td>0</td>\n",
       "      <td>1</td>\n",
       "      <td>0</td>\n",
       "      <td>0</td>\n",
       "      <td>0</td>\n",
       "      <td>0</td>\n",
       "      <td>...</td>\n",
       "      <td>0</td>\n",
       "      <td>0</td>\n",
       "      <td>1</td>\n",
       "      <td>0</td>\n",
       "      <td>0</td>\n",
       "      <td>1</td>\n",
       "      <td>0</td>\n",
       "      <td>0</td>\n",
       "      <td>0</td>\n",
       "      <td>0</td>\n",
       "    </tr>\n",
       "    <tr>\n",
       "      <th>8121</th>\n",
       "      <td>0</td>\n",
       "      <td>0</td>\n",
       "      <td>0</td>\n",
       "      <td>0</td>\n",
       "      <td>0</td>\n",
       "      <td>1</td>\n",
       "      <td>0</td>\n",
       "      <td>0</td>\n",
       "      <td>0</td>\n",
       "      <td>0</td>\n",
       "      <td>...</td>\n",
       "      <td>0</td>\n",
       "      <td>0</td>\n",
       "      <td>0</td>\n",
       "      <td>0</td>\n",
       "      <td>0</td>\n",
       "      <td>1</td>\n",
       "      <td>0</td>\n",
       "      <td>0</td>\n",
       "      <td>0</td>\n",
       "      <td>0</td>\n",
       "    </tr>\n",
       "    <tr>\n",
       "      <th>8122</th>\n",
       "      <td>0</td>\n",
       "      <td>0</td>\n",
       "      <td>0</td>\n",
       "      <td>0</td>\n",
       "      <td>0</td>\n",
       "      <td>0</td>\n",
       "      <td>0</td>\n",
       "      <td>0</td>\n",
       "      <td>1</td>\n",
       "      <td>0</td>\n",
       "      <td>...</td>\n",
       "      <td>0</td>\n",
       "      <td>0</td>\n",
       "      <td>1</td>\n",
       "      <td>0</td>\n",
       "      <td>0</td>\n",
       "      <td>1</td>\n",
       "      <td>0</td>\n",
       "      <td>0</td>\n",
       "      <td>0</td>\n",
       "      <td>0</td>\n",
       "    </tr>\n",
       "    <tr>\n",
       "      <th>8123</th>\n",
       "      <td>0</td>\n",
       "      <td>0</td>\n",
       "      <td>0</td>\n",
       "      <td>0</td>\n",
       "      <td>0</td>\n",
       "      <td>1</td>\n",
       "      <td>0</td>\n",
       "      <td>0</td>\n",
       "      <td>0</td>\n",
       "      <td>0</td>\n",
       "      <td>...</td>\n",
       "      <td>0</td>\n",
       "      <td>0</td>\n",
       "      <td>0</td>\n",
       "      <td>0</td>\n",
       "      <td>0</td>\n",
       "      <td>1</td>\n",
       "      <td>0</td>\n",
       "      <td>0</td>\n",
       "      <td>0</td>\n",
       "      <td>0</td>\n",
       "    </tr>\n",
       "  </tbody>\n",
       "</table>\n",
       "<p>8124 rows × 28 columns</p>\n",
       "</div>"
      ],
      "text/plain": [
       "      bruises_t  odor_c  odor_f  odor_l  odor_m  odor_n  odor_p  odor_s  \\\n",
       "0             1       0       0       0       0       0       1       0   \n",
       "1             1       0       0       0       0       0       0       0   \n",
       "2             1       0       0       1       0       0       0       0   \n",
       "3             1       0       0       0       0       0       1       0   \n",
       "4             0       0       0       0       0       1       0       0   \n",
       "...         ...     ...     ...     ...     ...     ...     ...     ...   \n",
       "8119          0       0       0       0       0       1       0       0   \n",
       "8120          0       0       0       0       0       1       0       0   \n",
       "8121          0       0       0       0       0       1       0       0   \n",
       "8122          0       0       0       0       0       0       0       0   \n",
       "8123          0       0       0       0       0       1       0       0   \n",
       "\n",
       "      odor_y  cap-shape_c  ...  population_n  population_s  population_v  \\\n",
       "0          0            0  ...             0             1             0   \n",
       "1          0            0  ...             1             0             0   \n",
       "2          0            0  ...             1             0             0   \n",
       "3          0            0  ...             0             1             0   \n",
       "4          0            0  ...             0             0             0   \n",
       "...      ...          ...  ...           ...           ...           ...   \n",
       "8119       0            0  ...             0             0             0   \n",
       "8120       0            0  ...             0             0             1   \n",
       "8121       0            0  ...             0             0             0   \n",
       "8122       1            0  ...             0             0             1   \n",
       "8123       0            0  ...             0             0             0   \n",
       "\n",
       "      population_y  habitat_g  habitat_l  habitat_m  habitat_p  habitat_u  \\\n",
       "0                0          0          0          0          0          1   \n",
       "1                0          1          0          0          0          0   \n",
       "2                0          0          0          1          0          0   \n",
       "3                0          0          0          0          0          1   \n",
       "4                0          1          0          0          0          0   \n",
       "...            ...        ...        ...        ...        ...        ...   \n",
       "8119             0          0          1          0          0          0   \n",
       "8120             0          0          1          0          0          0   \n",
       "8121             0          0          1          0          0          0   \n",
       "8122             0          0          1          0          0          0   \n",
       "8123             0          0          1          0          0          0   \n",
       "\n",
       "      habitat_w  \n",
       "0             0  \n",
       "1             0  \n",
       "2             0  \n",
       "3             0  \n",
       "4             0  \n",
       "...         ...  \n",
       "8119          0  \n",
       "8120          0  \n",
       "8121          0  \n",
       "8122          0  \n",
       "8123          0  \n",
       "\n",
       "[8124 rows x 28 columns]"
      ]
     },
     "execution_count": 10,
     "metadata": {},
     "output_type": "execute_result"
    }
   ],
   "source": [
    "X = df[[\"bruises\",\"odor\", \"cap-shape\", \"cap-surface\", \"population\", \"habitat\"]]\n",
    "y = df['y_trans']\n",
    "\n",
    "#coverting all categorical variables to dummy variables \n",
    "# remember dummy variables need classes - 1 to represent the whole information\n",
    "#each dummy variables should be one less column than original\n",
    "\n",
    "# bruises_dummies = pd.get_dummies(X['bruises']).iloc[:,1]\n",
    "# print(bruises_dummies)\n",
    "# odor_dummies = pd.get_dummies(X['odor']).iloc[:,1:9]\n",
    "# print(odor_dummies)\n",
    "# cap_shape_dummies = pd.get_dummies(X['cap-shape']).iloc[:,1:6]\n",
    "# print(cap_shape_dummies)\n",
    "# cap_surface_dummies = pd.get_dummies(X['cap-surface'], drop_first = True) #drop first removes first column, easier than using iloc\n",
    "# print(cap_surface_dummies)\n",
    "\n",
    "#This can all be automated this way with a for loop\n",
    "#drop_first argument will drop each variables first class\n",
    "\n",
    "for i in X.columns:\n",
    "    X = pd.get_dummies(X, prefix=[i], columns=[i], drop_first = True)\n",
    "X\n"
   ]
  },
  {
   "cell_type": "markdown",
   "metadata": {},
   "source": [
    "# Fitting a logisitc regression model"
   ]
  },
  {
   "cell_type": "code",
   "execution_count": 11,
   "metadata": {},
   "outputs": [
    {
     "name": "stdout",
     "output_type": "stream",
     "text": [
      "(5686, 28)\n",
      "(2438, 28)\n",
      "(5686,)\n",
      "(2438,)\n"
     ]
    }
   ],
   "source": [
    "from sklearn.linear_model import LogisticRegression \n",
    "from sklearn.model_selection import train_test_split\n",
    "\n",
    "model = LogisticRegression()\n",
    "\n",
    "X_train, X_test, y_train, y_test = train_test_split(X, y, \n",
    "                                                   test_size = 0.3,\n",
    "                                                   random_state = 100)\n",
    "\n",
    "print(X_train.shape)\n",
    "print(X_test.shape)\n",
    "print(y_train.shape)\n",
    "print(y_test.shape)\n",
    "\n"
   ]
  },
  {
   "cell_type": "code",
   "execution_count": 12,
   "metadata": {},
   "outputs": [
    {
     "name": "stdout",
     "output_type": "stream",
     "text": [
      "[-2.57]\n"
     ]
    },
    {
     "data": {
      "text/plain": [
       "array([[-1.81,  6.51,  7.33, -2.44,  1.24, -2.83,  6.4 ,  3.65,  3.6 ,\n",
       "         1.61, -0.82, -0.11, -1.43, -1.3 ,  1.83,  0.52,  1.16,  3.92,\n",
       "        -2.46, -0.57,  3.98,  0.05,  2.18, -0.9 ,  2.83,  0.61,  1.05,\n",
       "        -1.51]])"
      ]
     },
     "execution_count": 12,
     "metadata": {},
     "output_type": "execute_result"
    }
   ],
   "source": [
    "model.fit(X_train, y_train)\n",
    "print(model.intercept_.round(2))\n",
    "model.coef_.round(2)"
   ]
  },
  {
   "cell_type": "markdown",
   "metadata": {},
   "source": [
    "## Testing model accuracy "
   ]
  },
  {
   "cell_type": "code",
   "execution_count": 13,
   "metadata": {},
   "outputs": [
    {
     "name": "stdout",
     "output_type": "stream",
     "text": [
      "2410\n",
      "Model accuracy on the test set was 0.9885151763740772\n"
     ]
    }
   ],
   "source": [
    "y_pred = model.predict(X_test)\n",
    "print((y_test==y_pred).sum())\n",
    "accuracy = (y_test==y_pred).sum()/y_test.shape[0]\n",
    "print(\"Model accuracy on the test set was\", accuracy)"
   ]
  },
  {
   "cell_type": "markdown",
   "metadata": {},
   "source": [
    "# Using all features with the logistic regression model"
   ]
  },
  {
   "cell_type": "code",
   "execution_count": 14,
   "metadata": {},
   "outputs": [
    {
     "name": "stdout",
     "output_type": "stream",
     "text": [
      "  cap-shape cap-surface cap-color bruises odor gill-attachment gill-spacing  \\\n",
      "0         x           s         n       t    p               f            c   \n",
      "1         x           s         y       t    a               f            c   \n",
      "2         b           s         w       t    l               f            c   \n",
      "3         x           y         w       t    p               f            c   \n",
      "4         x           s         g       f    n               f            w   \n",
      "\n",
      "  gill-size gill-color stalk-shape  ... stalk-surface-below-ring  \\\n",
      "0         n          k           e  ...                        s   \n",
      "1         b          k           e  ...                        s   \n",
      "2         b          n           e  ...                        s   \n",
      "3         n          n           e  ...                        s   \n",
      "4         b          k           t  ...                        s   \n",
      "\n",
      "  stalk-color-above-ring stalk-color-below-ring veil-type veil-color  \\\n",
      "0                      w                      w         p          w   \n",
      "1                      w                      w         p          w   \n",
      "2                      w                      w         p          w   \n",
      "3                      w                      w         p          w   \n",
      "4                      w                      w         p          w   \n",
      "\n",
      "  ring-number ring-type spore-print-color population habitat  \n",
      "0           o         p                 k          s       u  \n",
      "1           o         p                 n          n       g  \n",
      "2           o         p                 n          n       m  \n",
      "3           o         p                 k          s       u  \n",
      "4           o         e                 n          a       g  \n",
      "\n",
      "[5 rows x 22 columns]\n",
      "0    1\n",
      "1    0\n",
      "2    0\n",
      "3    1\n",
      "4    0\n",
      "Name: y_trans, dtype: int32\n"
     ]
    },
    {
     "data": {
      "text/html": [
       "<div>\n",
       "<style scoped>\n",
       "    .dataframe tbody tr th:only-of-type {\n",
       "        vertical-align: middle;\n",
       "    }\n",
       "\n",
       "    .dataframe tbody tr th {\n",
       "        vertical-align: top;\n",
       "    }\n",
       "\n",
       "    .dataframe thead th {\n",
       "        text-align: right;\n",
       "    }\n",
       "</style>\n",
       "<table border=\"1\" class=\"dataframe\">\n",
       "  <thead>\n",
       "    <tr style=\"text-align: right;\">\n",
       "      <th></th>\n",
       "      <th>cap-shape_c</th>\n",
       "      <th>cap-shape_f</th>\n",
       "      <th>cap-shape_k</th>\n",
       "      <th>cap-shape_s</th>\n",
       "      <th>cap-shape_x</th>\n",
       "      <th>cap-surface_g</th>\n",
       "      <th>cap-surface_s</th>\n",
       "      <th>cap-surface_y</th>\n",
       "      <th>cap-color_c</th>\n",
       "      <th>cap-color_e</th>\n",
       "      <th>...</th>\n",
       "      <th>population_n</th>\n",
       "      <th>population_s</th>\n",
       "      <th>population_v</th>\n",
       "      <th>population_y</th>\n",
       "      <th>habitat_g</th>\n",
       "      <th>habitat_l</th>\n",
       "      <th>habitat_m</th>\n",
       "      <th>habitat_p</th>\n",
       "      <th>habitat_u</th>\n",
       "      <th>habitat_w</th>\n",
       "    </tr>\n",
       "  </thead>\n",
       "  <tbody>\n",
       "    <tr>\n",
       "      <th>0</th>\n",
       "      <td>0</td>\n",
       "      <td>0</td>\n",
       "      <td>0</td>\n",
       "      <td>0</td>\n",
       "      <td>1</td>\n",
       "      <td>0</td>\n",
       "      <td>1</td>\n",
       "      <td>0</td>\n",
       "      <td>0</td>\n",
       "      <td>0</td>\n",
       "      <td>...</td>\n",
       "      <td>0</td>\n",
       "      <td>1</td>\n",
       "      <td>0</td>\n",
       "      <td>0</td>\n",
       "      <td>0</td>\n",
       "      <td>0</td>\n",
       "      <td>0</td>\n",
       "      <td>0</td>\n",
       "      <td>1</td>\n",
       "      <td>0</td>\n",
       "    </tr>\n",
       "    <tr>\n",
       "      <th>1</th>\n",
       "      <td>0</td>\n",
       "      <td>0</td>\n",
       "      <td>0</td>\n",
       "      <td>0</td>\n",
       "      <td>1</td>\n",
       "      <td>0</td>\n",
       "      <td>1</td>\n",
       "      <td>0</td>\n",
       "      <td>0</td>\n",
       "      <td>0</td>\n",
       "      <td>...</td>\n",
       "      <td>1</td>\n",
       "      <td>0</td>\n",
       "      <td>0</td>\n",
       "      <td>0</td>\n",
       "      <td>1</td>\n",
       "      <td>0</td>\n",
       "      <td>0</td>\n",
       "      <td>0</td>\n",
       "      <td>0</td>\n",
       "      <td>0</td>\n",
       "    </tr>\n",
       "    <tr>\n",
       "      <th>2</th>\n",
       "      <td>0</td>\n",
       "      <td>0</td>\n",
       "      <td>0</td>\n",
       "      <td>0</td>\n",
       "      <td>0</td>\n",
       "      <td>0</td>\n",
       "      <td>1</td>\n",
       "      <td>0</td>\n",
       "      <td>0</td>\n",
       "      <td>0</td>\n",
       "      <td>...</td>\n",
       "      <td>1</td>\n",
       "      <td>0</td>\n",
       "      <td>0</td>\n",
       "      <td>0</td>\n",
       "      <td>0</td>\n",
       "      <td>0</td>\n",
       "      <td>1</td>\n",
       "      <td>0</td>\n",
       "      <td>0</td>\n",
       "      <td>0</td>\n",
       "    </tr>\n",
       "    <tr>\n",
       "      <th>3</th>\n",
       "      <td>0</td>\n",
       "      <td>0</td>\n",
       "      <td>0</td>\n",
       "      <td>0</td>\n",
       "      <td>1</td>\n",
       "      <td>0</td>\n",
       "      <td>0</td>\n",
       "      <td>1</td>\n",
       "      <td>0</td>\n",
       "      <td>0</td>\n",
       "      <td>...</td>\n",
       "      <td>0</td>\n",
       "      <td>1</td>\n",
       "      <td>0</td>\n",
       "      <td>0</td>\n",
       "      <td>0</td>\n",
       "      <td>0</td>\n",
       "      <td>0</td>\n",
       "      <td>0</td>\n",
       "      <td>1</td>\n",
       "      <td>0</td>\n",
       "    </tr>\n",
       "    <tr>\n",
       "      <th>4</th>\n",
       "      <td>0</td>\n",
       "      <td>0</td>\n",
       "      <td>0</td>\n",
       "      <td>0</td>\n",
       "      <td>1</td>\n",
       "      <td>0</td>\n",
       "      <td>1</td>\n",
       "      <td>0</td>\n",
       "      <td>0</td>\n",
       "      <td>0</td>\n",
       "      <td>...</td>\n",
       "      <td>0</td>\n",
       "      <td>0</td>\n",
       "      <td>0</td>\n",
       "      <td>0</td>\n",
       "      <td>1</td>\n",
       "      <td>0</td>\n",
       "      <td>0</td>\n",
       "      <td>0</td>\n",
       "      <td>0</td>\n",
       "      <td>0</td>\n",
       "    </tr>\n",
       "    <tr>\n",
       "      <th>...</th>\n",
       "      <td>...</td>\n",
       "      <td>...</td>\n",
       "      <td>...</td>\n",
       "      <td>...</td>\n",
       "      <td>...</td>\n",
       "      <td>...</td>\n",
       "      <td>...</td>\n",
       "      <td>...</td>\n",
       "      <td>...</td>\n",
       "      <td>...</td>\n",
       "      <td>...</td>\n",
       "      <td>...</td>\n",
       "      <td>...</td>\n",
       "      <td>...</td>\n",
       "      <td>...</td>\n",
       "      <td>...</td>\n",
       "      <td>...</td>\n",
       "      <td>...</td>\n",
       "      <td>...</td>\n",
       "      <td>...</td>\n",
       "      <td>...</td>\n",
       "    </tr>\n",
       "    <tr>\n",
       "      <th>8119</th>\n",
       "      <td>0</td>\n",
       "      <td>0</td>\n",
       "      <td>1</td>\n",
       "      <td>0</td>\n",
       "      <td>0</td>\n",
       "      <td>0</td>\n",
       "      <td>1</td>\n",
       "      <td>0</td>\n",
       "      <td>0</td>\n",
       "      <td>0</td>\n",
       "      <td>...</td>\n",
       "      <td>0</td>\n",
       "      <td>0</td>\n",
       "      <td>0</td>\n",
       "      <td>0</td>\n",
       "      <td>0</td>\n",
       "      <td>1</td>\n",
       "      <td>0</td>\n",
       "      <td>0</td>\n",
       "      <td>0</td>\n",
       "      <td>0</td>\n",
       "    </tr>\n",
       "    <tr>\n",
       "      <th>8120</th>\n",
       "      <td>0</td>\n",
       "      <td>0</td>\n",
       "      <td>0</td>\n",
       "      <td>0</td>\n",
       "      <td>1</td>\n",
       "      <td>0</td>\n",
       "      <td>1</td>\n",
       "      <td>0</td>\n",
       "      <td>0</td>\n",
       "      <td>0</td>\n",
       "      <td>...</td>\n",
       "      <td>0</td>\n",
       "      <td>0</td>\n",
       "      <td>1</td>\n",
       "      <td>0</td>\n",
       "      <td>0</td>\n",
       "      <td>1</td>\n",
       "      <td>0</td>\n",
       "      <td>0</td>\n",
       "      <td>0</td>\n",
       "      <td>0</td>\n",
       "    </tr>\n",
       "    <tr>\n",
       "      <th>8121</th>\n",
       "      <td>0</td>\n",
       "      <td>1</td>\n",
       "      <td>0</td>\n",
       "      <td>0</td>\n",
       "      <td>0</td>\n",
       "      <td>0</td>\n",
       "      <td>1</td>\n",
       "      <td>0</td>\n",
       "      <td>0</td>\n",
       "      <td>0</td>\n",
       "      <td>...</td>\n",
       "      <td>0</td>\n",
       "      <td>0</td>\n",
       "      <td>0</td>\n",
       "      <td>0</td>\n",
       "      <td>0</td>\n",
       "      <td>1</td>\n",
       "      <td>0</td>\n",
       "      <td>0</td>\n",
       "      <td>0</td>\n",
       "      <td>0</td>\n",
       "    </tr>\n",
       "    <tr>\n",
       "      <th>8122</th>\n",
       "      <td>0</td>\n",
       "      <td>0</td>\n",
       "      <td>1</td>\n",
       "      <td>0</td>\n",
       "      <td>0</td>\n",
       "      <td>0</td>\n",
       "      <td>0</td>\n",
       "      <td>1</td>\n",
       "      <td>0</td>\n",
       "      <td>0</td>\n",
       "      <td>...</td>\n",
       "      <td>0</td>\n",
       "      <td>0</td>\n",
       "      <td>1</td>\n",
       "      <td>0</td>\n",
       "      <td>0</td>\n",
       "      <td>1</td>\n",
       "      <td>0</td>\n",
       "      <td>0</td>\n",
       "      <td>0</td>\n",
       "      <td>0</td>\n",
       "    </tr>\n",
       "    <tr>\n",
       "      <th>8123</th>\n",
       "      <td>0</td>\n",
       "      <td>0</td>\n",
       "      <td>0</td>\n",
       "      <td>0</td>\n",
       "      <td>1</td>\n",
       "      <td>0</td>\n",
       "      <td>1</td>\n",
       "      <td>0</td>\n",
       "      <td>0</td>\n",
       "      <td>0</td>\n",
       "      <td>...</td>\n",
       "      <td>0</td>\n",
       "      <td>0</td>\n",
       "      <td>0</td>\n",
       "      <td>0</td>\n",
       "      <td>0</td>\n",
       "      <td>1</td>\n",
       "      <td>0</td>\n",
       "      <td>0</td>\n",
       "      <td>0</td>\n",
       "      <td>0</td>\n",
       "    </tr>\n",
       "  </tbody>\n",
       "</table>\n",
       "<p>8124 rows × 95 columns</p>\n",
       "</div>"
      ],
      "text/plain": [
       "      cap-shape_c  cap-shape_f  cap-shape_k  cap-shape_s  cap-shape_x  \\\n",
       "0               0            0            0            0            1   \n",
       "1               0            0            0            0            1   \n",
       "2               0            0            0            0            0   \n",
       "3               0            0            0            0            1   \n",
       "4               0            0            0            0            1   \n",
       "...           ...          ...          ...          ...          ...   \n",
       "8119            0            0            1            0            0   \n",
       "8120            0            0            0            0            1   \n",
       "8121            0            1            0            0            0   \n",
       "8122            0            0            1            0            0   \n",
       "8123            0            0            0            0            1   \n",
       "\n",
       "      cap-surface_g  cap-surface_s  cap-surface_y  cap-color_c  cap-color_e  \\\n",
       "0                 0              1              0            0            0   \n",
       "1                 0              1              0            0            0   \n",
       "2                 0              1              0            0            0   \n",
       "3                 0              0              1            0            0   \n",
       "4                 0              1              0            0            0   \n",
       "...             ...            ...            ...          ...          ...   \n",
       "8119              0              1              0            0            0   \n",
       "8120              0              1              0            0            0   \n",
       "8121              0              1              0            0            0   \n",
       "8122              0              0              1            0            0   \n",
       "8123              0              1              0            0            0   \n",
       "\n",
       "      ...  population_n  population_s  population_v  population_y  habitat_g  \\\n",
       "0     ...             0             1             0             0          0   \n",
       "1     ...             1             0             0             0          1   \n",
       "2     ...             1             0             0             0          0   \n",
       "3     ...             0             1             0             0          0   \n",
       "4     ...             0             0             0             0          1   \n",
       "...   ...           ...           ...           ...           ...        ...   \n",
       "8119  ...             0             0             0             0          0   \n",
       "8120  ...             0             0             1             0          0   \n",
       "8121  ...             0             0             0             0          0   \n",
       "8122  ...             0             0             1             0          0   \n",
       "8123  ...             0             0             0             0          0   \n",
       "\n",
       "      habitat_l  habitat_m  habitat_p  habitat_u  habitat_w  \n",
       "0             0          0          0          1          0  \n",
       "1             0          0          0          0          0  \n",
       "2             0          1          0          0          0  \n",
       "3             0          0          0          1          0  \n",
       "4             0          0          0          0          0  \n",
       "...         ...        ...        ...        ...        ...  \n",
       "8119          1          0          0          0          0  \n",
       "8120          1          0          0          0          0  \n",
       "8121          1          0          0          0          0  \n",
       "8122          1          0          0          0          0  \n",
       "8123          1          0          0          0          0  \n",
       "\n",
       "[8124 rows x 95 columns]"
      ]
     },
     "execution_count": 14,
     "metadata": {},
     "output_type": "execute_result"
    }
   ],
   "source": [
    "lis = df.columns\n",
    "len(lis) #24 colums but don't include first column 0 which is target and column 24 which is y_trans\n",
    "lis[0]\n",
    "\n",
    "X2 = df.iloc[:,1:23] \n",
    "y2 = df['y_trans']\n",
    "\n",
    "print(X2[:5])\n",
    "print(y2[:5])\n",
    "\n",
    "for i in X2.columns:\n",
    "    X2 = pd.get_dummies(X2, columns = [i], drop_first = True)\n",
    "    \n",
    "X2"
   ]
  },
  {
   "cell_type": "markdown",
   "metadata": {},
   "source": [
    "# Fitting logistic regression model"
   ]
  },
  {
   "cell_type": "code",
   "execution_count": 15,
   "metadata": {},
   "outputs": [
    {
     "name": "stdout",
     "output_type": "stream",
     "text": [
      "(5686, 95)\n",
      "(2438, 95)\n",
      "(5686,)\n",
      "(2438,)\n"
     ]
    }
   ],
   "source": [
    "model2 = LogisticRegression()\n",
    "\n",
    "X_train, X_test, y_train, y_test = train_test_split(X2, y_trans, test_size = 0.3, random_state = 100, shuffle = True)\n",
    "\n",
    "print(X_train.shape)\n",
    "print(X_test.shape)\n",
    "print(y_train.shape)\n",
    "print(y_test.shape)"
   ]
  },
  {
   "cell_type": "code",
   "execution_count": 16,
   "metadata": {},
   "outputs": [
    {
     "name": "stdout",
     "output_type": "stream",
     "text": [
      "1.0\n"
     ]
    }
   ],
   "source": [
    "model2.fit(X_train, y_train)\n",
    "y_pred2 = model2.predict(X_test)\n",
    "accuracy = (y_test == y_pred2).sum()/y_test.shape[0] #remember y_test is 1 dimension so we use 0 as shape\n",
    "print(accuracy) #100 % accuracy\n",
    "\n"
   ]
  },
  {
   "cell_type": "markdown",
   "metadata": {},
   "source": [
    "# Building a decision tree model "
   ]
  },
  {
   "cell_type": "code",
   "execution_count": 22,
   "metadata": {},
   "outputs": [
    {
     "name": "stdout",
     "output_type": "stream",
     "text": [
      "best params {'max_depth': 15, 'max_leaf_nodes': 20, 'min_samples_leaf': 1}\n",
      "best score 1.0\n",
      "1.0\n"
     ]
    }
   ],
   "source": [
    "from sklearn.tree import DecisionTreeClassifier \n",
    "from sklearn.model_selection import GridSearchCV\n",
    "\n",
    "#Searching for a few of the best parameter values\n",
    "#all keys are parameters in the DecisionTreeClassifier \n",
    "\n",
    "param_grid = {\n",
    "    \"max_depth\": [5,15,25,35],\n",
    "    \"min_samples_leaf\": [1,3,5],\n",
    "    \"max_leaf_nodes\": [10,20,35,50,60]\n",
    "}\n",
    "\n",
    "dt = DecisionTreeClassifier()\n",
    "gs = GridSearchCV(dt, param_grid, scoring = 'accuracy', cv = 10)\n",
    "\n",
    "gs.fit(X_train, y_train) \n",
    "\n",
    "print(\"best params\",gs.best_params_)\n",
    "\n",
    "dt_best = gs.best_score_\n",
    "print(\"best score\", gs.best_score_) \n",
    "\n",
    "#After cross validation, the best score was 0.97\n",
    "\n",
    "#Now testing the best paramas on the test set \n",
    "\n",
    "dt_best_params = DecisionTreeClassifier(max_depth = 15, max_leaf_nodes = 20, min_samples_leaf = 1)\n",
    "dt_best_params.fit(X_train, y_train)\n",
    "\n",
    "dt_ypred = dt_best_params.predict(X_test)\n",
    "\n",
    "accuracy_dt = (y_test == dt_ypred).sum()/y_test.shape[0]\n",
    "print(accuracy_dt) #100% accuracy for decision tree\n"
   ]
  },
  {
   "cell_type": "markdown",
   "metadata": {},
   "source": [
    "# Building a random forest model"
   ]
  },
  {
   "cell_type": "markdown",
   "metadata": {},
   "source": [
    "## Using elbow graph to determine No of  trees to build with"
   ]
  },
  {
   "cell_type": "code",
   "execution_count": 30,
   "metadata": {},
   "outputs": [
    {
     "name": "stderr",
     "output_type": "stream",
     "text": [
      "<ipython-input-30-b148604136fc>:26: UserWarning: Attempting to set identical bottom == top == 1 results in singular transformations; automatically expanding.\n",
      "  plt.ylim(1,1) #note: chose ylim 1,1 considering accuracy no matter how many trees are built is ~ 100%\n"
     ]
    },
    {
     "data": {
      "image/png": "[encoded data removed]",
      "text/plain": [
       "<Figure size 432x288 with 1 Axes>"
      ]
     },
     "metadata": {
      "needs_background": "light"
     },
     "output_type": "display_data"
    },
    {
     "data": {
      "text/plain": [
       "RandomForestClassifier(n_estimators=5)"
      ]
     },
     "execution_count": 30,
     "metadata": {},
     "output_type": "execute_result"
    }
   ],
   "source": [
    "from sklearn.model_selection import GridSearchCV\n",
    "from sklearn.ensemble import RandomForestClassifier\n",
    "import matplotlib.pyplot as plt\n",
    "\n",
    "#Elbow graph optimizes performance without adding unnecessary complexity \n",
    "\n",
    "#find optimal value between 1 and 100 trees\n",
    "\n",
    "n_estimators = list(range(1,101))\n",
    "\n",
    "param_grid = {\n",
    "    \"n_estimators\": n_estimators,\n",
    "}\n",
    "\n",
    "rf = RandomForestClassifier()\n",
    "gs = GridSearchCV(rf, param_grid, cv = 10)\n",
    "gs.fit(X_train, y_train)\n",
    "\n",
    "#print(cv_results_) this is a dictionary that stores a lot of data. We want the mean_test_score key.\n",
    "\n",
    "scores = gs.cv_results_['mean_test_score']\n",
    "plt.plot(n_estimators, scores)\n",
    "plt.xlabel(\"n_estimators\")\n",
    "plt.ylabel(\"accuracy\")\n",
    "plt.xlim(0,100)\n",
    "plt.ylim(1,1) #note: chose ylim 1,1 considering accuracy no matter how many trees are built is ~ 100%\n",
    "plt.show()\n",
    "\n",
    "#pick n_estimators where the accuracy levels off. best after that are probably by chance.\n",
    "#between 0 and 100 are all ~100%. Deciding to choose to build model with 5 trees. \n",
    "\n",
    "rf = RandomForestClassifier(n_estimators = 5)\n",
    "rf.fit(X_train,y_train)"
   ]
  },
  {
   "cell_type": "code",
   "execution_count": 31,
   "metadata": {},
   "outputs": [
    {
     "name": "stdout",
     "output_type": "stream",
     "text": [
      "100.0\n",
      "The accuracy of the random forest model on the shrooms dataset is 100.0 %\n"
     ]
    }
   ],
   "source": [
    "print(rf.score(X_test,y_test) * 100) #100 % accuracy \n",
    "rf_pred = rf.predict(X_test)\n",
    "accuracy_rf = (y_test == rf_pred).sum()/y_test.shape[0]\n",
    "\n",
    "print(\"The accuracy of the random forest model on the shrooms dataset is\", accuracy_rf * 100, \"%\")"
   ]
  },
  {
   "cell_type": "markdown",
   "metadata": {},
   "source": [
    "# Building a neural network"
   ]
  },
  {
   "cell_type": "code",
   "execution_count": 32,
   "metadata": {},
   "outputs": [],
   "source": [
    "import tensorflow as tf\n",
    "from tensorflow import keras\n",
    "from tensorflow.keras.models import Sequential\n",
    "from tensorflow.keras.layers import Activation, Dense\n",
    "from tensorflow.keras.optimizers import Adam\n",
    "from tensorflow.keras.metrics import categorical_crossentropy "
   ]
  },
  {
   "cell_type": "code",
   "execution_count": 33,
   "metadata": {},
   "outputs": [
    {
     "name": "stdout",
     "output_type": "stream",
     "text": [
      "Model: \"sequential_1\"\n",
      "_________________________________________________________________\n",
      "Layer (type)                 Output Shape              Param #   \n",
      "=================================================================\n",
      "dense_3 (Dense)              (None, 10)                960       \n",
      "_________________________________________________________________\n",
      "dense_4 (Dense)              (None, 20)                220       \n",
      "_________________________________________________________________\n",
      "dense_5 (Dense)              (None, 1)                 21        \n",
      "=================================================================\n",
      "Total params: 1,201\n",
      "Trainable params: 1,201\n",
      "Non-trainable params: 0\n",
      "_________________________________________________________________\n"
     ]
    }
   ],
   "source": [
    "list2 = X2.columns\n",
    "list2.shape #95 columns/features\n",
    "input_size = 95,\n",
    "\n",
    "model = Sequential([\n",
    "    Dense(units = 10, input_shape = input_size, activation = 'relu'),\n",
    "    Dense(units = 20, activation = 'relu'),\n",
    "    Dense(units = 1, activation = 'sigmoid')\n",
    " ])\n",
    "\n",
    "model.summary()\n"
   ]
  },
  {
   "cell_type": "markdown",
   "metadata": {},
   "source": [
    "## Compiling and fitting the model"
   ]
  },
  {
   "cell_type": "code",
   "execution_count": 36,
   "metadata": {},
   "outputs": [
    {
     "name": "stdout",
     "output_type": "stream",
     "text": [
      "Epoch 1/100\n",
      "WARNING:tensorflow:Callbacks method `on_train_batch_begin` is slow compared to the batch time (batch time: 0.0004s vs `on_train_batch_begin` time: 0.0010s). Check your callbacks.\n",
      "143/143 - 0s - loss: 5.5979e-05 - accuracy: 1.0000 - val_loss: 2.5221e-04 - val_accuracy: 1.0000\n",
      "Epoch 2/100\n",
      "143/143 - 0s - loss: 4.7926e-05 - accuracy: 1.0000 - val_loss: 2.2978e-04 - val_accuracy: 1.0000\n",
      "Epoch 3/100\n",
      "143/143 - 0s - loss: 4.1134e-05 - accuracy: 1.0000 - val_loss: 1.9866e-04 - val_accuracy: 1.0000\n",
      "Epoch 4/100\n",
      "143/143 - 0s - loss: 3.5969e-05 - accuracy: 1.0000 - val_loss: 1.7351e-04 - val_accuracy: 1.0000\n",
      "Epoch 5/100\n",
      "143/143 - 0s - loss: 3.0995e-05 - accuracy: 1.0000 - val_loss: 1.5705e-04 - val_accuracy: 1.0000\n",
      "Epoch 6/100\n",
      "143/143 - 0s - loss: 2.7234e-05 - accuracy: 1.0000 - val_loss: 1.5279e-04 - val_accuracy: 1.0000\n",
      "Epoch 7/100\n",
      "143/143 - 0s - loss: 2.4105e-05 - accuracy: 1.0000 - val_loss: 1.4527e-04 - val_accuracy: 1.0000\n",
      "Epoch 8/100\n",
      "143/143 - 0s - loss: 2.1487e-05 - accuracy: 1.0000 - val_loss: 1.1448e-04 - val_accuracy: 1.0000\n",
      "Epoch 9/100\n",
      "143/143 - 0s - loss: 1.9041e-05 - accuracy: 1.0000 - val_loss: 1.1177e-04 - val_accuracy: 1.0000\n",
      "Epoch 10/100\n",
      "143/143 - 0s - loss: 1.7014e-05 - accuracy: 1.0000 - val_loss: 9.5216e-05 - val_accuracy: 1.0000\n",
      "Epoch 11/100\n",
      "143/143 - 0s - loss: 1.5108e-05 - accuracy: 1.0000 - val_loss: 9.5108e-05 - val_accuracy: 1.0000\n",
      "Epoch 12/100\n",
      "143/143 - 0s - loss: 1.3774e-05 - accuracy: 1.0000 - val_loss: 8.6632e-05 - val_accuracy: 1.0000\n",
      "Epoch 13/100\n",
      "143/143 - 0s - loss: 1.2347e-05 - accuracy: 1.0000 - val_loss: 8.4748e-05 - val_accuracy: 1.0000\n",
      "Epoch 14/100\n",
      "143/143 - 0s - loss: 1.1303e-05 - accuracy: 1.0000 - val_loss: 7.1539e-05 - val_accuracy: 1.0000\n",
      "Epoch 15/100\n",
      "143/143 - 0s - loss: 1.0254e-05 - accuracy: 1.0000 - val_loss: 6.8695e-05 - val_accuracy: 1.0000\n",
      "Epoch 16/100\n",
      "143/143 - 0s - loss: 9.3493e-06 - accuracy: 1.0000 - val_loss: 5.9279e-05 - val_accuracy: 1.0000\n",
      "Epoch 17/100\n",
      "143/143 - 0s - loss: 8.5209e-06 - accuracy: 1.0000 - val_loss: 5.9266e-05 - val_accuracy: 1.0000\n",
      "Epoch 18/100\n",
      "143/143 - 0s - loss: 7.8401e-06 - accuracy: 1.0000 - val_loss: 5.6431e-05 - val_accuracy: 1.0000\n",
      "Epoch 19/100\n",
      "143/143 - 0s - loss: 7.2010e-06 - accuracy: 1.0000 - val_loss: 4.8863e-05 - val_accuracy: 1.0000\n",
      "Epoch 20/100\n",
      "143/143 - 0s - loss: 6.4772e-06 - accuracy: 1.0000 - val_loss: 4.5639e-05 - val_accuracy: 1.0000\n",
      "Epoch 21/100\n",
      "143/143 - 0s - loss: 5.9949e-06 - accuracy: 1.0000 - val_loss: 4.2611e-05 - val_accuracy: 1.0000\n",
      "Epoch 22/100\n",
      "143/143 - 0s - loss: 5.4906e-06 - accuracy: 1.0000 - val_loss: 3.8300e-05 - val_accuracy: 1.0000\n",
      "Epoch 23/100\n",
      "143/143 - 0s - loss: 5.1258e-06 - accuracy: 1.0000 - val_loss: 3.5194e-05 - val_accuracy: 1.0000\n",
      "Epoch 24/100\n",
      "143/143 - 0s - loss: 4.6804e-06 - accuracy: 1.0000 - val_loss: 3.3920e-05 - val_accuracy: 1.0000\n",
      "Epoch 25/100\n",
      "143/143 - 0s - loss: 4.2819e-06 - accuracy: 1.0000 - val_loss: 3.3737e-05 - val_accuracy: 1.0000\n",
      "Epoch 26/100\n",
      "143/143 - 0s - loss: 3.9997e-06 - accuracy: 1.0000 - val_loss: 2.8878e-05 - val_accuracy: 1.0000\n",
      "Epoch 27/100\n",
      "143/143 - 0s - loss: 3.6945e-06 - accuracy: 1.0000 - val_loss: 2.7649e-05 - val_accuracy: 1.0000\n",
      "Epoch 28/100\n",
      "143/143 - 0s - loss: 3.4704e-06 - accuracy: 1.0000 - val_loss: 2.6916e-05 - val_accuracy: 1.0000\n",
      "Epoch 29/100\n",
      "143/143 - 0s - loss: 3.1637e-06 - accuracy: 1.0000 - val_loss: 2.4411e-05 - val_accuracy: 1.0000\n",
      "Epoch 30/100\n",
      "143/143 - 0s - loss: 2.9515e-06 - accuracy: 1.0000 - val_loss: 2.2304e-05 - val_accuracy: 1.0000\n",
      "Epoch 31/100\n",
      "143/143 - 0s - loss: 2.7105e-06 - accuracy: 1.0000 - val_loss: 2.1863e-05 - val_accuracy: 1.0000\n",
      "Epoch 32/100\n",
      "143/143 - 0s - loss: 2.5302e-06 - accuracy: 1.0000 - val_loss: 1.9636e-05 - val_accuracy: 1.0000\n",
      "Epoch 33/100\n",
      "143/143 - 0s - loss: 2.3190e-06 - accuracy: 1.0000 - val_loss: 1.9026e-05 - val_accuracy: 1.0000\n",
      "Epoch 34/100\n",
      "143/143 - 0s - loss: 2.1845e-06 - accuracy: 1.0000 - val_loss: 1.7531e-05 - val_accuracy: 1.0000\n",
      "Epoch 35/100\n",
      "143/143 - 0s - loss: 2.0266e-06 - accuracy: 1.0000 - val_loss: 1.6612e-05 - val_accuracy: 1.0000\n",
      "Epoch 36/100\n",
      "143/143 - 0s - loss: 1.8516e-06 - accuracy: 1.0000 - val_loss: 1.5883e-05 - val_accuracy: 1.0000\n",
      "Epoch 37/100\n",
      "143/143 - 0s - loss: 1.7272e-06 - accuracy: 1.0000 - val_loss: 1.4157e-05 - val_accuracy: 1.0000\n",
      "Epoch 38/100\n",
      "143/143 - 0s - loss: 1.6097e-06 - accuracy: 1.0000 - val_loss: 1.3224e-05 - val_accuracy: 1.0000\n",
      "Epoch 39/100\n",
      "143/143 - 0s - loss: 1.4899e-06 - accuracy: 1.0000 - val_loss: 1.2070e-05 - val_accuracy: 1.0000\n",
      "Epoch 40/100\n",
      "143/143 - 0s - loss: 1.3864e-06 - accuracy: 1.0000 - val_loss: 1.1682e-05 - val_accuracy: 1.0000\n",
      "Epoch 41/100\n",
      "143/143 - 0s - loss: 1.2924e-06 - accuracy: 1.0000 - val_loss: 1.0525e-05 - val_accuracy: 1.0000\n",
      "Epoch 42/100\n",
      "143/143 - 0s - loss: 1.2194e-06 - accuracy: 1.0000 - val_loss: 9.7832e-06 - val_accuracy: 1.0000\n",
      "Epoch 43/100\n",
      "143/143 - 0s - loss: 1.1102e-06 - accuracy: 1.0000 - val_loss: 9.9256e-06 - val_accuracy: 1.0000\n",
      "Epoch 44/100\n",
      "143/143 - 0s - loss: 1.0475e-06 - accuracy: 1.0000 - val_loss: 8.6151e-06 - val_accuracy: 1.0000\n",
      "Epoch 45/100\n",
      "143/143 - 0s - loss: 9.6351e-07 - accuracy: 1.0000 - val_loss: 8.7837e-06 - val_accuracy: 1.0000\n",
      "Epoch 46/100\n",
      "143/143 - 0s - loss: 8.9858e-07 - accuracy: 1.0000 - val_loss: 7.8887e-06 - val_accuracy: 1.0000\n",
      "Epoch 47/100\n",
      "143/143 - 0s - loss: 8.4551e-07 - accuracy: 1.0000 - val_loss: 7.2328e-06 - val_accuracy: 1.0000\n",
      "Epoch 48/100\n",
      "143/143 - 0s - loss: 7.8947e-07 - accuracy: 1.0000 - val_loss: 6.6970e-06 - val_accuracy: 1.0000\n",
      "Epoch 49/100\n",
      "143/143 - 0s - loss: 7.3668e-07 - accuracy: 1.0000 - val_loss: 6.6087e-06 - val_accuracy: 1.0000\n",
      "Epoch 50/100\n",
      "143/143 - 0s - loss: 6.9525e-07 - accuracy: 1.0000 - val_loss: 5.8586e-06 - val_accuracy: 1.0000\n",
      "Epoch 51/100\n",
      "143/143 - 0s - loss: 6.3956e-07 - accuracy: 1.0000 - val_loss: 5.9625e-06 - val_accuracy: 1.0000\n",
      "Epoch 52/100\n",
      "143/143 - 0s - loss: 5.9736e-07 - accuracy: 1.0000 - val_loss: 5.9483e-06 - val_accuracy: 1.0000\n",
      "Epoch 53/100\n",
      "143/143 - 0s - loss: 5.7494e-07 - accuracy: 1.0000 - val_loss: 4.8368e-06 - val_accuracy: 1.0000\n",
      "Epoch 54/100\n",
      "143/143 - 0s - loss: 5.1786e-07 - accuracy: 1.0000 - val_loss: 4.4618e-06 - val_accuracy: 1.0000\n",
      "Epoch 55/100\n",
      "143/143 - 0s - loss: 4.7864e-07 - accuracy: 1.0000 - val_loss: 4.4893e-06 - val_accuracy: 1.0000\n",
      "Epoch 56/100\n",
      "143/143 - 0s - loss: 4.5286e-07 - accuracy: 1.0000 - val_loss: 4.1792e-06 - val_accuracy: 1.0000\n",
      "Epoch 57/100\n",
      "143/143 - 0s - loss: 4.2226e-07 - accuracy: 1.0000 - val_loss: 3.8412e-06 - val_accuracy: 1.0000\n",
      "Epoch 58/100\n",
      "143/143 - 0s - loss: 3.9493e-07 - accuracy: 1.0000 - val_loss: 3.5348e-06 - val_accuracy: 1.0000\n",
      "Epoch 59/100\n",
      "143/143 - 0s - loss: 3.6863e-07 - accuracy: 1.0000 - val_loss: 3.4143e-06 - val_accuracy: 1.0000\n",
      "Epoch 60/100\n",
      "143/143 - 0s - loss: 3.4688e-07 - accuracy: 1.0000 - val_loss: 3.0387e-06 - val_accuracy: 1.0000\n",
      "Epoch 61/100\n",
      "143/143 - 0s - loss: 3.2188e-07 - accuracy: 1.0000 - val_loss: 2.9944e-06 - val_accuracy: 1.0000\n",
      "Epoch 62/100\n",
      "143/143 - 0s - loss: 2.9719e-07 - accuracy: 1.0000 - val_loss: 2.8504e-06 - val_accuracy: 1.0000\n",
      "Epoch 63/100\n",
      "143/143 - 0s - loss: 2.8096e-07 - accuracy: 1.0000 - val_loss: 2.7058e-06 - val_accuracy: 1.0000\n",
      "Epoch 64/100\n",
      "143/143 - 0s - loss: 2.6230e-07 - accuracy: 1.0000 - val_loss: 2.3910e-06 - val_accuracy: 1.0000\n",
      "Epoch 65/100\n",
      "143/143 - 0s - loss: 2.4239e-07 - accuracy: 1.0000 - val_loss: 2.3264e-06 - val_accuracy: 1.0000\n",
      "Epoch 66/100\n",
      "143/143 - 0s - loss: 2.2869e-07 - accuracy: 1.0000 - val_loss: 2.3321e-06 - val_accuracy: 1.0000\n",
      "Epoch 67/100\n",
      "143/143 - 0s - loss: 2.1480e-07 - accuracy: 1.0000 - val_loss: 1.9975e-06 - val_accuracy: 1.0000\n",
      "Epoch 68/100\n",
      "143/143 - 0s - loss: 1.9748e-07 - accuracy: 1.0000 - val_loss: 2.0097e-06 - val_accuracy: 1.0000\n",
      "Epoch 69/100\n",
      "143/143 - 0s - loss: 1.8748e-07 - accuracy: 1.0000 - val_loss: 1.8093e-06 - val_accuracy: 1.0000\n",
      "Epoch 70/100\n",
      "143/143 - 0s - loss: 1.7428e-07 - accuracy: 1.0000 - val_loss: 1.7073e-06 - val_accuracy: 1.0000\n",
      "Epoch 71/100\n",
      "143/143 - 0s - loss: 1.6412e-07 - accuracy: 1.0000 - val_loss: 1.6238e-06 - val_accuracy: 1.0000\n",
      "Epoch 72/100\n",
      "143/143 - 0s - loss: 1.5303e-07 - accuracy: 1.0000 - val_loss: 1.5823e-06 - val_accuracy: 1.0000\n",
      "Epoch 73/100\n",
      "143/143 - 0s - loss: 1.4424e-07 - accuracy: 1.0000 - val_loss: 1.4122e-06 - val_accuracy: 1.0000\n"
     ]
    },
    {
     "name": "stdout",
     "output_type": "stream",
     "text": [
      "Epoch 74/100\n",
      "143/143 - 0s - loss: 1.3541e-07 - accuracy: 1.0000 - val_loss: 1.3642e-06 - val_accuracy: 1.0000\n",
      "Epoch 75/100\n",
      "143/143 - 0s - loss: 1.2764e-07 - accuracy: 1.0000 - val_loss: 1.3002e-06 - val_accuracy: 1.0000\n",
      "Epoch 76/100\n",
      "143/143 - 0s - loss: 1.1845e-07 - accuracy: 1.0000 - val_loss: 1.1913e-06 - val_accuracy: 1.0000\n",
      "Epoch 77/100\n",
      "143/143 - 0s - loss: 1.1165e-07 - accuracy: 1.0000 - val_loss: 1.1560e-06 - val_accuracy: 1.0000\n",
      "Epoch 78/100\n",
      "143/143 - 0s - loss: 1.0387e-07 - accuracy: 1.0000 - val_loss: 1.0131e-06 - val_accuracy: 1.0000\n",
      "Epoch 79/100\n",
      "143/143 - 0s - loss: 9.7200e-08 - accuracy: 1.0000 - val_loss: 9.7961e-07 - val_accuracy: 1.0000\n",
      "Epoch 80/100\n",
      "143/143 - 0s - loss: 9.1997e-08 - accuracy: 1.0000 - val_loss: 9.2916e-07 - val_accuracy: 1.0000\n",
      "Epoch 81/100\n",
      "143/143 - 0s - loss: 8.5881e-08 - accuracy: 1.0000 - val_loss: 8.6843e-07 - val_accuracy: 1.0000\n",
      "Epoch 82/100\n",
      "143/143 - 0s - loss: 8.1835e-08 - accuracy: 1.0000 - val_loss: 7.9980e-07 - val_accuracy: 1.0000\n",
      "Epoch 83/100\n",
      "143/143 - 0s - loss: 7.6497e-08 - accuracy: 1.0000 - val_loss: 7.4864e-07 - val_accuracy: 1.0000\n",
      "Epoch 84/100\n",
      "143/143 - 0s - loss: 7.1352e-08 - accuracy: 1.0000 - val_loss: 7.2956e-07 - val_accuracy: 1.0000\n",
      "Epoch 85/100\n",
      "143/143 - 0s - loss: 6.7143e-08 - accuracy: 1.0000 - val_loss: 7.2306e-07 - val_accuracy: 1.0000\n",
      "Epoch 86/100\n",
      "143/143 - 0s - loss: 6.4054e-08 - accuracy: 1.0000 - val_loss: 6.4298e-07 - val_accuracy: 1.0000\n",
      "Epoch 87/100\n",
      "143/143 - 0s - loss: 5.9755e-08 - accuracy: 1.0000 - val_loss: 6.3383e-07 - val_accuracy: 1.0000\n",
      "Epoch 88/100\n",
      "143/143 - 0s - loss: 5.6218e-08 - accuracy: 1.0000 - val_loss: 5.7476e-07 - val_accuracy: 1.0000\n",
      "Epoch 89/100\n",
      "143/143 - 0s - loss: 5.3173e-08 - accuracy: 1.0000 - val_loss: 5.7222e-07 - val_accuracy: 1.0000\n",
      "Epoch 90/100\n",
      "143/143 - 0s - loss: 4.9823e-08 - accuracy: 1.0000 - val_loss: 5.0906e-07 - val_accuracy: 1.0000\n",
      "Epoch 91/100\n",
      "143/143 - 0s - loss: 4.7143e-08 - accuracy: 1.0000 - val_loss: 4.6744e-07 - val_accuracy: 1.0000\n",
      "Epoch 92/100\n",
      "143/143 - 0s - loss: 4.4740e-08 - accuracy: 1.0000 - val_loss: 4.4024e-07 - val_accuracy: 1.0000\n",
      "Epoch 93/100\n",
      "143/143 - 0s - loss: 4.2057e-08 - accuracy: 1.0000 - val_loss: 4.3647e-07 - val_accuracy: 1.0000\n",
      "Epoch 94/100\n",
      "143/143 - 0s - loss: 3.9504e-08 - accuracy: 1.0000 - val_loss: 3.9493e-07 - val_accuracy: 1.0000\n",
      "Epoch 95/100\n",
      "143/143 - 0s - loss: 3.7842e-08 - accuracy: 1.0000 - val_loss: 3.7017e-07 - val_accuracy: 1.0000\n",
      "Epoch 96/100\n",
      "143/143 - 0s - loss: 3.5220e-08 - accuracy: 1.0000 - val_loss: 3.5588e-07 - val_accuracy: 1.0000\n",
      "Epoch 97/100\n",
      "143/143 - 0s - loss: 3.3206e-08 - accuracy: 1.0000 - val_loss: 3.5010e-07 - val_accuracy: 1.0000\n",
      "Epoch 98/100\n",
      "143/143 - 0s - loss: 3.1617e-08 - accuracy: 1.0000 - val_loss: 3.3808e-07 - val_accuracy: 1.0000\n",
      "Epoch 99/100\n",
      "143/143 - 0s - loss: 3.0159e-08 - accuracy: 1.0000 - val_loss: 3.1058e-07 - val_accuracy: 1.0000\n",
      "Epoch 100/100\n",
      "143/143 - 0s - loss: 2.8080e-08 - accuracy: 1.0000 - val_loss: 2.9278e-07 - val_accuracy: 1.0000\n"
     ]
    },
    {
     "data": {
      "text/plain": [
       "<tensorflow.python.keras.callbacks.History at 0x1c86fd982e0>"
      ]
     },
     "execution_count": 36,
     "metadata": {},
     "output_type": "execute_result"
    }
   ],
   "source": [
    "model.compile(optimizer = Adam(learning_rate = 0.0001), loss = 'binary_crossentropy', metrics = ['accuracy'])\n",
    "\n",
    "model.fit(x = X_train, y = y_train, validation_split = 0.2, batch_size = 32, epochs = 100, shuffle = True, verbose = 2  )"
   ]
  },
  {
   "cell_type": "code",
   "execution_count": 48,
   "metadata": {},
   "outputs": [
    {
     "name": "stdout",
     "output_type": "stream",
     "text": [
      "77/77 [==============================] - 0s 713us/step - loss: 7.5144e-08 - accuracy: 1.0000\n"
     ]
    }
   ],
   "source": [
    "accuracy = model.evaluate(X_test, y_test) #100 % accuracy."
   ]
  }
 ],
 "metadata": {
  "kernelspec": {
   "display_name": "Python 3",
   "language": "python",
   "name": "python3"
  },
  "language_info": {
   "codemirror_mode": {
    "name": "ipython",
    "version": 3
   },
   "file_extension": ".py",
   "mimetype": "text/x-python",
   "name": "python",
   "nbconvert_exporter": "python",
   "pygments_lexer": "ipython3",
   "version": "3.8.3"
  }
 },
 "nbformat": 4,
 "nbformat_minor": 4
}
